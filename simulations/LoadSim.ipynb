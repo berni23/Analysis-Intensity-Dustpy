{
 "cells": [
  {
   "cell_type": "markdown",
   "metadata": {},
   "source": [
    "# An executable notebook\n",
    "This notebook can also be converted to a script with \n",
    "\n",
    "    jupyter nbconvert --to script multiproc.ipynb\n",
    "    \n",
    "and then executed with\n",
    "\n",
    "    python multiproc.py [ARGS]\n",
    "    \n",
    "If ipython magic is used, it need to be called not with `python` but with `ipython`, but then arguments cause issues."
   ]
  },
  {
   "cell_type": "code",
   "execution_count": 16,
   "metadata": {},
   "outputs": [],
   "source": [
    "import argparse\n",
    "import warnings\n",
    "warnings.filterwarnings(\"ignore\", message=\"numpy.dtype size changed\")\n",
    "warnings.filterwarnings(\"ignore\", message=\"numpy.ufunc size changed\")\n",
    "from multiprocessing import Pool\n",
    "import numpy as np\n",
    "import matplotlib.pyplot as plt\n",
    "import shutil\n",
    "import pickle\n",
    "import os\n",
    "import sys\n",
    "import dustpy\n",
    "#import pandas as pd\n",
    "from dustpy.sim.utils import bindFunction\n",
    "from scipy  import interpolate\n",
    "#from widget import plotter\n",
    "# to find out if we are running interactively\n",
    "import __main__\n",
    "is_interactive = not hasattr(__main__, '__file__')"
   ]
  },
  {
   "cell_type": "code",
   "execution_count": 17,
   "metadata": {},
   "outputs": [
    {
     "name": "stdout",
     "output_type": "stream",
     "text": [
      "running interactively, will use some defaults\n",
      "we are using the opacity from dsharp\n"
     ]
    }
   ],
   "source": [
    "import pickle\n",
    "class Extra_var(object):\n",
    "    def __init__(self, name,Mp1=None,Mp2=None,Mp3 = None,rp1=None,rp2=None,rp3=None,alpha =None,gamma = None,Mgas = None,rc=None ,tp2 =None,tp3 = None,):\n",
    "        self.name = name\n",
    "        self.Mp1 =  Mp1\n",
    "        self.Mp2 =  Mp2\n",
    "        self.Mp3 =  Mp3\n",
    "        self.rp1 = rp1\n",
    "        self.rp2 = rp2\n",
    "        self.rp3 = rp3\n",
    "        self.alpha = alpha\n",
    "        self.gamma = gamma\n",
    "        self.Mgas  = Mgas\n",
    "        self.tp2 = tp2\n",
    "        self.tp3 =  tp3\n",
    "        self.rc = rc\n",
    "def save_object(obj, filename):\n",
    "       pickle_out = open(filename, 'wb')   # Overwrites any existing file.\n",
    "       pickle.dump(obj, pickle_out)\n",
    "       pickle_out.close()\n",
    "\n",
    "# define the parser\n",
    "parser = argparse.ArgumentParser(description='This python notebook is executable',formatter_class=argparse.RawTextHelpFormatter)\n",
    "\n",
    "parser.add_argument('-o','--opacity',  help='what opacity to use'    ,    type=str, default='ricci', choices=['ricci','dsharp'])\n",
    "parser.add_argument('-n','--number' ,  help='which model to run'     ,    type=int, default=-1)\n",
    "parser.add_argument('-c','--cpus'   ,  help='how many cores to use'  ,    type=int, default=4 )\n",
    "\n",
    "parser.description ='Here we can put more description'\n",
    "parser.description+='And even more if necessary'\n",
    "# use parser default if interactive\n",
    "if not is_interactive:\n",
    "    print('not interactive, will parse arguments')\n",
    "    argsin = parser.parse_args()\n",
    "else:\n",
    "    print('running interactively, will use some defaults')\n",
    "   \n",
    "    argsin = parser.parse_args(['-o','dsharp'])\n",
    "    \n",
    "print('we are using the opacity from {}'.format(argsin.opacity))"
   ]
  },
  {
   "cell_type": "markdown",
   "metadata": {},
   "source": [
    "Define a worker function that takes some time to run"
   ]
  },
  {
   "cell_type": "code",
   "execution_count": 20,
   "metadata": {},
   "outputs": [],
   "source": [
    "from importlib import reload\n",
    "import datetime\n",
    "now = datetime.datetime.now()\n",
    "from functions_restart import loadSimulation\n",
    "\n",
    "def Restart_function(nameSim):\n",
    "    \n",
    "    \"\"\" Function for restarting a given simulation. It works like the notebook bestFit.ipynb, but here the only argument\n",
    "    is the simulation name\"\"\"\n",
    "    \n",
    "    from dustpy.sim.utils import readFromDump\n",
    "    d = readFromDump(str(nameSim)+'/dustpy.dmp') \n",
    "      \n",
    "    #d.snapshots = np.linspace(2,15*1e6,60)*c.yr\n",
    "\n",
    "    def initialGas(A,r):\n",
    "        \n",
    "        return kanagawa_time_3gap(A,r,0)\n",
    "    \n",
    "    \"\"\" As some variables are not stored automathically in dmp file, those have to be uploaded from Extra_vars and  be set up properly.\"\"\"\n",
    "    def updateGas(d):\n",
    "        \n",
    "        with open(str(nameSim)+'/Extra_vars.pickle', 'rb') as F:\n",
    "             P = pickle.load(F)\n",
    "             \n",
    "        d.gas.Sigma = kanagawa_time_3gap(d,d.grid.r,t=d.t,Mp1=P.Mp1,Mp2=P.Mp2,Mp3 = P.Mp3,tp2 = P.tp2,tp3 = P.tp3,Mgas = P.Mgas,gamma = P.gamma,rp1 =P.rp1,rp2 =P.rp2, rp3 = P.rp3,rc = P.rc,profile=P.profile,alpha =P.alpha)\n",
    "    def updateAlpha(A):\n",
    "        return np.array([P.alpha for i in range(0,len(A.grid.r))])\n",
    "     \n",
    "    bindFunction(d,'initialGasSurfaceDensity', initialGas)\n",
    "    bindFunction(d,'gasSystole', updateGas)\n",
    "    bindFunction(d,'alpha',updateAlpha)\n",
    "    \n",
    "    print('Re_starting simulation'+str(nameSim)+'..' )\n",
    "    \n",
    "    loadSimulation(d, dir=str(nameSim), files=\"data*.hdf5\")\n",
    "    d.initialize()\n",
    "    d.evolve()\n",
    "    \n",
    "    \"\"\" Getting the variables needed for a contour plot\"\"\"\n",
    "    \n",
    "    with h5py.File(str(A.pars.outputDir) + '/data0050.hdf5') as fC: \n",
    "     rC = fC['grid/r'][()] \n",
    "     mC = fC['grid/m'][()] \n",
    "     sig_dC = fC['dust/Sigma'][()] \n",
    "     csC = fC['gas/cs'][()] \n",
    "     alphaC = fC['gas/alpha'][()] \n",
    "     VfragC = fC['dust/vFrag'][()] \n",
    "     SigmaC = fC[\"gas/Sigma\"][()] \n",
    "     omegaC = fC[\"grid/OmegaK\"][()] \n",
    "     St = fC[\"dust/St\"][()] \n",
    "     d2g = fC[\"dust/dust2gasRatio\"][()] \n",
    "     rIntC = fC[\"grid/rInt\"][()] \n",
    "     rhoC = fC['dust/rhoBulk'][()][0,0] \n",
    "     agrain = fC['dust/a'][()][0] \n",
    "     Vk = omegaC * rC \n",
    "\n",
    "    FragBarrier = VfragC*VfragC / csC/csC/alphaC /3 \n",
    "    FragBarrier *= 2 * SigmaC / np.pi /rhoC \n",
    "    p = SigmaC * omegaC * csC \n",
    "    \n",
    "    \"\"\" The intensity derived from the dust surface denstity at the last snapshot is stored\"\"\"\n",
    "    \n",
    "    Ise1 = dens_to_int_v2(A.pars.outputDir,50,opacities = 'default_opacities.npz')\n",
    "    \n",
    "    R=Ise1[0]\n",
    "    Int=Ise1[2] \n",
    "    \n",
    "    np.savetxt(A.pars.outputDir+'/I_R_v1',(R,Int),delimiter=',', header=\"I,R\",fmt='%1.8f')\n",
    "    \n",
    "    Ise2 = dens_to_int_v2(A.pars.outputDir,50,opacities = 'default_opacities_smooth.npz')\n",
    "    \n",
    "    R = Ise2[0]\n",
    "    Int = Ise2[2] \n",
    "    \n",
    "    np.savetxt(A.pars.outputDir+'/I_R_v2',(R,Int),delimiter=',', header=\"I,R\",fmt='%1.8f')\n",
    "    \n",
    "    \"\"\" The variables neded to create a contour plot are also stored at each simulation folder, to see the contourplot just\n",
    "    use the ContourPlot function in sim_funcions.py file\"\"\"\n",
    "\n",
    "    _f = interp1d(np.log10(rC), np.log10(p), fill_value='extrapolate') \n",
    "    pInt = 10.**_f(np.log10(rIntC)) \n",
    "    Diff_pint = np.diff(pInt) \n",
    "    Diff_rint = np.diff(rIntC) \n",
    "    gammaC = np.abs(rC / p * Diff_pint / Diff_rint) \n",
    "    DriftBarrier = 2 * d2g * SigmaC * Vk[0]*Vk[0] /csC/csC/gammaC/ np.pi /rhoC \n",
    "    np.savetxt(str(A.pars.outputDir)+'/rC.txt',rC,delimiter = ',')\n",
    "    np.savetxt(str(A.pars.outputDir)+'/agrain.txt',agrain,delimiter = ',')\n",
    "    np.savetxt(str(A.pars.outputDir)+'/sigma.txt' ,np.log10(sig_dC).T,delimiter = ',')\n",
    "    np.savetxt(str(A.pars.outputDir)+'/Frag.txt'  ,FragBarrier,delimiter = ',')\n",
    "    np.savetxt(str(A.pars.outputDir)+'/Drift.txt' ,DriftBarrier,delimiter = ',')\n",
    "      \n",
    "    \"\"\" Movie of the Contour plot (population size vs position in arcsec)\"\"\"                           \n",
    "    plotting.movie(str(A.pars.outputDir))\n"
   ]
  },
  {
   "cell_type": "markdown",
   "metadata": {},
   "source": [
    "Make up a list of arguments that need to be processed"
   ]
  },
  {
   "cell_type": "code",
   "execution_count": null,
   "metadata": {},
   "outputs": [
    {
     "name": "stdout",
     "output_type": "stream",
     "text": [
      "\n",
      "\u001b[32mReading from dump file:\u001b[0m 'trial_24_3_15/dustpy.dmp'\n",
      "\u001b[32mReading from dump file:\u001b[0m 'trial_24_3_13/dustpy.dmp'\n",
      "\u001b[32mReading from dump file:\u001b[0m 'trial_24_3_14/dustpy.dmp'\n",
      "\n",
      "\n",
      "63080000.0\n",
      "Re_starting simulation trial_24_3_14..\n",
      "63080000.0\n",
      "Re_starting simulation trial_24_3_15..\n",
      "63080000.0\n"
     ]
    },
    {
     "name": "stderr",
     "output_type": "stream",
     "text": [
      "/home/moon/bferrer/anaconda3/lib/python3.6/site-packages/h5py/_hl/dataset.py:313: H5pyDeprecationWarning: dataset.value has been deprecated. Use dataset[()] instead.\n",
      "  \"Use dataset[()] instead.\", H5pyDeprecationWarning)\n"
     ]
    },
    {
     "name": "stdout",
     "output_type": "stream",
     "text": [
      "Restarting simulation from trial_24_3_14/data0001.hdf5\n",
      "Re_starting simulation trial_24_3_13..\n"
     ]
    },
    {
     "name": "stderr",
     "output_type": "stream",
     "text": [
      "/home/moon/bferrer/anaconda3/lib/python3.6/site-packages/h5py/_hl/dataset.py:313: H5pyDeprecationWarning: dataset.value has been deprecated. Use dataset[()] instead.\n",
      "  \"Use dataset[()] instead.\", H5pyDeprecationWarning)\n",
      "/home/moon/bferrer/anaconda3/lib/python3.6/site-packages/h5py/_hl/dataset.py:313: H5pyDeprecationWarning: dataset.value has been deprecated. Use dataset[()] instead.\n",
      "  \"Use dataset[()] instead.\", H5pyDeprecationWarning)\n"
     ]
    },
    {
     "name": "stdout",
     "output_type": "stream",
     "text": [
      "Restarting simulation from trial_24_3_15/data0001.hdf5\n",
      "Restarting simulation from trial_24_3_13/data0001.hdf5\n"
     ]
    }
   ],
   "source": [
    "Args = ([],[])\n",
    "\n",
    "with Pool(argsin.cpus) as p:\n",
    "        p.starmap(Restart_function,Args)"
   ]
  },
  {
   "cell_type": "code",
   "execution_count": null,
   "metadata": {},
   "outputs": [],
   "source": [
    "\"\"\" A final message to know the simulations are done\"\"\"\n",
    "\n",
    "print(\"All simulations complete!! ... it took long, but it was worth it!!\")"
   ]
  }
 ],
 "metadata": {
  "kernelspec": {
   "display_name": "Python 3",
   "language": "python",
   "name": "python3"
  },
  "language_info": {
   "codemirror_mode": {
    "name": "ipython",
    "version": 3
   },
   "file_extension": ".py",
   "mimetype": "text/x-python",
   "name": "python",
   "nbconvert_exporter": "python",
   "pygments_lexer": "ipython3",
   "version": "3.6.6"
  }
 },
 "nbformat": 4,
 "nbformat_minor": 2
}
