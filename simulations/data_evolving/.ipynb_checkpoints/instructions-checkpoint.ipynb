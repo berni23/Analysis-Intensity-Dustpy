{
 "cells": [
  {
   "cell_type": "markdown",
   "metadata": {},
   "source": [
    "# Hydro model data"
   ]
  },
  {
   "cell_type": "markdown",
   "metadata": {},
   "source": [
    "Outputs are made every 20 orbits for the outermost planet at 165au. This correspond to about 28,000 yrs.\n",
    "\n",
    "- `domain_y.dat` contains the radial grid positions in centimeters.\n",
    "- `dens000000X.txt` contains the gas surface density after $X \\times 20$ orbits for earch radial grid point."
   ]
  },
  {
   "cell_type": "markdown",
   "metadata": {},
   "source": [
    "## Todo:\n",
    "\n",
    "- read in the data (e.g. using `numpy.loadtxt`)\n",
    "- plot it for different times\n",
    "- define a function that interpolates the data for any time and radius\n",
    "\n",
    "## Next steps:\n",
    "\n",
    "- Define a function that mimicks this behavior with e.g. gaussian dips"
   ]
  }
 ],
 "metadata": {
  "kernelspec": {
   "display_name": "Python 2",
   "language": "python",
   "name": "python2"
  },
  "language_info": {
   "codemirror_mode": {
    "name": "ipython",
    "version": 2
   },
   "file_extension": ".py",
   "mimetype": "text/x-python",
   "name": "python",
   "nbconvert_exporter": "python",
   "pygments_lexer": "ipython2",
   "version": "2.7.14"
  }
 },
 "nbformat": 4,
 "nbformat_minor": 2
}
